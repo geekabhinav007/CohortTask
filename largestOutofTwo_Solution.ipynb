{
 "cells": [
  {
   "cell_type": "code",
   "execution_count": 23,
   "id": "7fbb0269-0720-4c9f-a912-8c4ab52aafa1",
   "metadata": {},
   "outputs": [
    {
     "name": "stderr",
     "output_type": "stream",
     "text": [
      "configrc.store_credentials:WARNING:2023-02-26 01:18:44,566: Credentials already present. Set overwrite=True to overwrite.\n"
     ]
    }
   ],
   "source": [
    "# Import the numpy library and assign it an alias \"np\"\n",
    "import numpy as np\n",
    "\n",
    "# Import various classes and functions from the Qiskit framework\n",
    "from qiskit import QuantumCircuit, transpile, Aer, execute\n",
    "\n",
    "# Enable inline plotting in Jupyter notebooks\n",
    "%matplotlib inline\n",
    "\n",
    "# Import the QasmSimulator from the Aer provider\n",
    "from qiskit.providers.aer import QasmSimulator\n",
    "\n",
    "# Import the job_monitor function from the qiskit.tools.monitor module\n",
    "from qiskit.tools.monitor import job_monitor\n",
    "\n",
    "# Load your IBM Quantum account using your API token saved in \"token.txt\"\n",
    "IBMQ.save_account(open(\"token.txt\", \"r\").read())\n"
   ]
  },
  {
   "cell_type": "code",
   "execution_count": 24,
   "id": "9282c496-7196-4d03-a370-b77354187fa3",
   "metadata": {},
   "outputs": [
    {
     "name": "stderr",
     "output_type": "stream",
     "text": [
      "ibmqfactory.load_account:WARNING:2023-02-26 01:18:45,584: Credentials are already in use. The existing account in the session will be replaced.\n"
     ]
    },
    {
     "data": {
      "text/plain": [
       "<AccountProvider for IBMQ(hub='ibm-q', group='open', project='main')>"
      ]
     },
     "execution_count": 24,
     "metadata": {},
     "output_type": "execute_result"
    }
   ],
   "source": [
    "# Import necessary modules from Qiskit\n",
    "from qiskit import IBMQ\n",
    "\n",
    "# Load IBM Quantum Experience account credentials\n",
    "# This function reads your API token from a configuration file and sets up an interface\n",
    "# between your computer and IBM's quantum computing resources\n",
    "IBMQ.load_account()\n"
   ]
  },
  {
   "cell_type": "code",
   "execution_count": 25,
   "id": "d73955ad-8dc7-4753-ba87-b27574590828",
   "metadata": {},
   "outputs": [
    {
     "name": "stdout",
     "output_type": "stream",
     "text": [
      "ibmq_qasm_simulator has 1 queued and simulated qubits\n",
      "ibmq_lima has 0 queued and 5 qubits\n",
      "ibmq_belem has 41 queued and 5 qubits\n",
      "ibmq_quito has 49 queued and 5 qubits\n",
      "simulator_statevector has 1 queued and simulated qubits\n",
      "simulator_mps has 1 queued and simulated qubits\n",
      "simulator_extended_stabilizer has 1 queued and simulated qubits\n",
      "simulator_stabilizer has 1 queued and simulated qubits\n",
      "ibmq_jakarta has 235 queued and 7 qubits\n",
      "ibmq_manila has 84 queued and 5 qubits\n",
      "ibm_lagos has 133 queued and 7 qubits\n",
      "ibm_nairobi has 68 queued and 7 qubits\n",
      "ibm_perth has 151 queued and 7 qubits\n",
      "ibm_oslo has 83 queued and 7 qubits\n"
     ]
    }
   ],
   "source": [
    "# Import necessary modules from Qiskit\n",
    "from qiskit import IBMQ\n",
    "\n",
    "# Connect to the IBM Quantum Experience provider and get a list of available backends\n",
    "provider = IBMQ.get_provider(\"ibm-q\")\n",
    "for backend in provider.backends():\n",
    "\n",
    "    # Check how many qubits are available for the current backend\n",
    "    try:\n",
    "        qubit_count = len(backend.properties().qubits)\n",
    "    except:\n",
    "        # If the backend is simulated, set the qubit count to \"simulated\"\n",
    "        qubit_count = \"simulated\"\n",
    "\n",
    "    # Print the name of the backend, the number of qubits available, and the number of pending jobs\n",
    "    print(f\"{backend.name()} has {backend.status().pending_jobs} queued and {qubit_count} qubits\")\n"
   ]
  },
  {
   "cell_type": "code",
   "execution_count": 26,
   "id": "8efc0465-aa3b-4671-87ea-9fc593dea984",
   "metadata": {},
   "outputs": [],
   "source": [
    "def find_largest_number(number1, number2):\n",
    "    # Set up a quantum circuit with 2 integer qubits and 1 control qubit\n",
    "    qc = QuantumCircuit(3, 2)\n",
    "\n",
    "    # Encode the two integers as binary numbers on separate sets of qubits\n",
    "    qc.x(0) if number1 == 1 else None\n",
    "    qc.x(1) if number2 == 1 else None\n",
    "    qc.barrier()\n",
    "\n",
    "    # Apply a Hadamard gate to the control qubit to put it into a superposition of |0⟩ and |1⟩\n",
    "    qc.h(2)\n",
    "\n",
    "    # Apply a controlled-Z gate to encode the integers in the phase of the state\n",
    "    qc.cz(2, 0)\n",
    "\n",
    "    # Apply the inverse Quantum Fourier Transform (QFT) to the b qubits\n",
    "    qc.barrier()\n",
    "    qc.h(1)\n",
    "    qc.cp(np.pi/2, 1, 0)\n",
    "    qc.h(0)\n",
    "\n",
    "    # Measure the b qubits and apply classical post-processing to obtain the phase\n",
    "    qc.measure([0,1], [0,1])\n",
    "     # Get the backend (quantum computer) to execute the circuit on\n",
    "    backend = provider.get_backend(\"ibmq_lima\")\n",
    "\n",
    "    # Execute the quantum circuit on the backend, taking a large number of shots\n",
    "    # to obtain accurate measurement results\n",
    "    job = execute(qc, backend=backend, shots=2048)\n",
    "\n",
    "    # Monitor the status of the job on the backend\n",
    "    job_monitor(job)\n",
    "\n",
    "    # Get the result of the job, which includes the measurement counts for each qubit\n",
    "    result = job.result()\n",
    "\n",
    "    # Get the measurement results\n",
    "    counts = result.get_counts(qc)\n",
    "    p01 = counts.get('01', 0) / 2048  # probability of measuring 01\n",
    "    p10 = counts.get('10', 0) / 2048  # probability of measuring 10\n",
    "\n",
    "    # Determine which integer is larger based on the measurement results\n",
    "    if p01 > p10:\n",
    "        return number2\n",
    "    else:\n",
    "        return number1\n"
   ]
  },
  {
   "cell_type": "code",
   "execution_count": 28,
   "id": "43d46bd9-2fb1-45c2-ae8d-a27d575ea59d",
   "metadata": {},
   "outputs": [
    {
     "name": "stdout",
     "output_type": "stream",
     "text": [
      "Job Status: job has successfully run\n",
      "The largest number from 5 and -6 is 5\n"
     ]
    }
   ],
   "source": [
    "a = 5\n",
    "b = -6\n",
    "largest = find_largest_number(a,b)\n",
    "print(f\"The largest number from {a} and {b} is {largest}\")\n"
   ]
  },
  {
   "cell_type": "code",
   "execution_count": null,
   "id": "453a8219-4906-4898-99eb-372055ce45b9",
   "metadata": {},
   "outputs": [],
   "source": []
  }
 ],
 "metadata": {
  "kernelspec": {
   "display_name": "Python 3 (ipykernel)",
   "language": "python",
   "name": "python3"
  },
  "language_info": {
   "codemirror_mode": {
    "name": "ipython",
    "version": 3
   },
   "file_extension": ".py",
   "mimetype": "text/x-python",
   "name": "python",
   "nbconvert_exporter": "python",
   "pygments_lexer": "ipython3",
   "version": "3.9.13"
  }
 },
 "nbformat": 4,
 "nbformat_minor": 5
}
