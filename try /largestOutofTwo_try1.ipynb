{
 "cells": [
  {
   "cell_type": "code",
   "execution_count": 9,
   "id": "f7a21bdf-c6c4-408c-a8bb-87b511fd8ab0",
   "metadata": {},
   "outputs": [
    {
     "name": "stdout",
     "output_type": "stream",
     "text": [
      "4\n"
     ]
    }
   ],
   "source": [
    "from qiskit import QuantumCircuit, Aer, execute\n",
    "\n",
    "def find_the_largest_number(num1, num2):\n",
    "    # Convert the numbers to binary strings\n",
    "    num1_binary = bin(num1)[2:]\n",
    "    num2_binary = bin(num2)[2:]\n",
    "\n",
    "    # Determine the number of qubits needed to represent the numbers\n",
    "    n = max(len(num1_binary), len(num2_binary)) + 1\n",
    "\n",
    "    # Create a quantum circuit with n qubits and n bits\n",
    "    qc = QuantumCircuit(n+1, n+1)\n",
    "\n",
    "    # Initialize the input qubits\n",
    "    for i in range(len(num1_binary)):\n",
    "        if num1_binary[i] == '1':\n",
    "            qc.x(n-2-i)\n",
    "\n",
    "    for i in range(len(num2_binary)):\n",
    "        if num2_binary[i] == '1':\n",
    "            qc.x(n-2-i)\n",
    "\n",
    "    # Compare the numbers using a controlled swap gate\n",
    "    for i in range(n-2):\n",
    "        qc.cswap(i, n-2, n-1)\n",
    "    \n",
    "    # Measure the qubits and return the result\n",
    "    qc.measure(range(n-1), range(n-1))\n",
    "    backend = Aer.get_backend('qasm_simulator')\n",
    "    result = execute(qc, backend, shots=1).result()\n",
    "    counts = result.get_counts()\n",
    "    max_num = max(counts, key=counts.get)\n",
    "    return int(max_num, 2)\n",
    "\n",
    "# Testing\n",
    "\n",
    "A = find_the_largest_number(5, -6)\n",
    "print(A)"
   ]
  },
  {
   "cell_type": "code",
   "execution_count": null,
   "id": "da89362f-2ea8-47b0-bea1-225061f332ec",
   "metadata": {},
   "outputs": [],
   "source": []
  }
 ],
 "metadata": {
  "kernelspec": {
   "display_name": "Python 3 (ipykernel)",
   "language": "python",
   "name": "python3"
  },
  "language_info": {
   "codemirror_mode": {
    "name": "ipython",
    "version": 3
   },
   "file_extension": ".py",
   "mimetype": "text/x-python",
   "name": "python",
   "nbconvert_exporter": "python",
   "pygments_lexer": "ipython3",
   "version": "3.9.13"
  }
 },
 "nbformat": 4,
 "nbformat_minor": 5
}
