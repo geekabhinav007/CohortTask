{
 "cells": [
  {
   "cell_type": "code",
   "execution_count": 20,
   "id": "36f7b980-b096-4b61-848e-23cc09d5ccf2",
   "metadata": {},
   "outputs": [],
   "source": [
    "from qiskit import QuantumCircuit, Aer, execute\n",
    "\n",
    "def find_the_largest_number(number1, number2):\n",
    "    # Convert the numbers to binary strings\n",
    "    num1_binary = bin(abs(number1))[2:]\n",
    "    num2_binary = bin(abs(number2))[2:]\n",
    "\n",
    "    # Determine the number of qubits needed to represent the numbers\n",
    "    n = max(len(num1_binary), len(num2_binary)) + 1\n",
    "\n",
    "    # Create a quantum circuit with n qubits and n bits\n",
    "    qc = QuantumCircuit(n, n)\n",
    "\n",
    "    # Initialize the input qubits\n",
    "    for i in range(len(num1_binary)):\n",
    "        if num1_binary[i] == '1':\n",
    "            qc.x(n-2-i)\n",
    "    for i in range(len(num2_binary)):\n",
    "        if num2_binary[i] == '1':\n",
    "            qc.x(n-2-i)\n",
    "\n",
    "    # Apply the compare operator to the qubits\n",
    "    qc.x(n-1)\n",
    "    qc.mct(list(range(n-1)), n-1)\n",
    "    qc.x(n-1)\n",
    "\n",
    "    # Measure the qubits and return the result\n",
    "    qc.measure(range(n), range(n))\n",
    "    backend = Aer.get_backend('qasm_simulator')\n",
    "    result = execute(qc, backend, shots=1).result()\n",
    "    counts = result.get_counts()\n",
    "    max_num = max(counts, key=counts.get)\n",
    "    if max_num[0] == '1':\n",
    "        return -int(max_num[1:], 2)\n",
    "    else:\n",
    "        return int(max_num[1:], 2)\n",
    "\n",
    "\n",
    "\n"
   ]
  },
  {
   "cell_type": "code",
   "execution_count": 29,
   "id": "660db16d-5564-49b6-8d9d-b32067c2a14a",
   "metadata": {},
   "outputs": [
    {
     "name": "stdout",
     "output_type": "stream",
     "text": [
      "3\n"
     ]
    }
   ],
   "source": [
    "A = find_the_largest_number(5, -6)\n",
    "print(A)"
   ]
  },
  {
   "cell_type": "code",
   "execution_count": null,
   "id": "90e1b93a-1777-45e4-8b9b-cd780012037d",
   "metadata": {},
   "outputs": [],
   "source": []
  },
  {
   "cell_type": "code",
   "execution_count": null,
   "id": "a75efff0-68ef-4106-82c1-f677266736d4",
   "metadata": {},
   "outputs": [],
   "source": []
  }
 ],
 "metadata": {
  "kernelspec": {
   "display_name": "Python 3 (ipykernel)",
   "language": "python",
   "name": "python3"
  },
  "language_info": {
   "codemirror_mode": {
    "name": "ipython",
    "version": 3
   },
   "file_extension": ".py",
   "mimetype": "text/x-python",
   "name": "python",
   "nbconvert_exporter": "python",
   "pygments_lexer": "ipython3",
   "version": "3.9.13"
  }
 },
 "nbformat": 4,
 "nbformat_minor": 5
}
